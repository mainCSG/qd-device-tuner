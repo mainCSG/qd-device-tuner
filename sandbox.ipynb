{
 "cells": [
  {
   "cell_type": "markdown",
   "metadata": {},
   "source": [
    "# Quantum Dot Tuner\n",
    "\n",
    "Procedure is as follows,\n",
    "\n",
    "1. Define your station set-up using QCoDeS\n",
    "2. Build your device and connect your gates to the station\n",
    "3. Feed your device to the tuner and begin characterization!"
   ]
  },
  {
   "cell_type": "markdown",
   "metadata": {},
   "source": [
    "### Import Modules"
   ]
  },
  {
   "cell_type": "code",
   "execution_count": 5,
   "metadata": {},
   "outputs": [],
   "source": [
    "from qd_device_tuner.src.device import *\n",
    "from qd_device_tuner.src.tuner.single_charge_transistor import *\n",
    "\n",
    "import qcodes as qc"
   ]
  },
  {
   "cell_type": "markdown",
   "metadata": {},
   "source": [
    "### Define QCoDeS Station"
   ]
  },
  {
   "cell_type": "code",
   "execution_count": 6,
   "metadata": {},
   "outputs": [],
   "source": [
    "csg_station = qc.Station(config_file=\"station_config.yaml\")\n",
    "# csg_station.load_instrument('sim900')\n",
    "# csg_station.load_instrument('agilent')\n",
    "\n",
    "# sim900 = csg_station.sim900\n",
    "# agilent = csg_station.agilent\n",
    "sensitivity = 1e-9"
   ]
  },
  {
   "cell_type": "markdown",
   "metadata": {},
   "source": [
    "### Build Device"
   ]
  },
  {
   "cell_type": "code",
   "execution_count": 7,
   "metadata": {},
   "outputs": [],
   "source": [
    "# Define ohmics and connect them to their sources\n",
    "S = Source(name=\"S\", source=1, scale=1e-2, unit=\"V\", bounds=1.0)\n",
    "D = Drain(name=\"D\", source=1, scale=sensitivity, unit=\"A\", bounds=2.0e-9)\n",
    "\n",
    "# Define gates and connect them to their sources\n",
    "LB = Barrier(name=\"LB\", source=1, unit=\"V\", bounds=(0, 1))\n",
    "P = Plunger(name=\"P\", source=1, unit=\"V\", bounds=(-0.1, 1))\n",
    "RB = Barrier(name=\"RB\", source=1, unit=\"V\", bounds=(0, 1))\n",
    "\n",
    "# Define leads and connect them to their sources\n",
    "L = Top(name=\"L\", source=1, unit=\"V\", bounds=(0, 1))\n",
    "\n",
    "# Build device\n",
    "SET = Device(\n",
    "    csg_station,\n",
    "    \"test\",\n",
    "    \"e\",\n",
    "    \"acc\"\n",
    ")\n",
    "\n",
    "SET.add_ohmic(S)\n",
    "SET.add_ohmic(D)\n",
    "SET.add_barrier(LB)\n",
    "SET.add_plunger(P)\n",
    "SET.add_barrier(RB)\n",
    "SET.add_top(L)"
   ]
  },
  {
   "cell_type": "markdown",
   "metadata": {},
   "source": [
    "### Give Device to Tuner"
   ]
  },
  {
   "cell_type": "code",
   "execution_count": 8,
   "metadata": {},
   "outputs": [],
   "source": [
    "tuner = SingleChargeTransistor(device=SET, save_dir=Path(\".\"))"
   ]
  },
  {
   "cell_type": "code",
   "execution_count": null,
   "metadata": {},
   "outputs": [],
   "source": []
  }
 ],
 "metadata": {
  "kernelspec": {
   "display_name": "env_qd_device_tuner",
   "language": "python",
   "name": "python3"
  },
  "language_info": {
   "codemirror_mode": {
    "name": "ipython",
    "version": 3
   },
   "file_extension": ".py",
   "mimetype": "text/x-python",
   "name": "python",
   "nbconvert_exporter": "python",
   "pygments_lexer": "ipython3",
   "version": "3.10.14"
  }
 },
 "nbformat": 4,
 "nbformat_minor": 2
}
